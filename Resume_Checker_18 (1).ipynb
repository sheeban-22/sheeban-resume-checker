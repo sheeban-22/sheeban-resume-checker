{
  "cells": [
    {
      "cell_type": "code",
      "execution_count": 1,
      "metadata": {
        "colab": {
          "base_uri": "https://localhost:8080/"
        },
        "id": "A5Y0k054xNzk",
        "outputId": "8659db76-bcba-4792-993a-55da3ad3064b"
      },
      "outputs": [
        {
          "output_type": "stream",
          "name": "stdout",
          "text": [
            "Requirement already satisfied: gradio in /usr/local/lib/python3.11/dist-packages (5.31.0)\n",
            "Collecting pdf2image\n",
            "  Downloading pdf2image-1.17.0-py3-none-any.whl.metadata (6.2 kB)\n",
            "Collecting pytesseract\n",
            "  Downloading pytesseract-0.3.13-py3-none-any.whl.metadata (11 kB)\n",
            "Requirement already satisfied: nltk in /usr/local/lib/python3.11/dist-packages (3.9.1)\n",
            "Requirement already satisfied: matplotlib in /usr/local/lib/python3.11/dist-packages (3.10.0)\n",
            "Collecting PyMuPDF\n",
            "  Downloading pymupdf-1.26.3-cp39-abi3-manylinux_2_28_x86_64.whl.metadata (3.4 kB)\n",
            "Requirement already satisfied: aiofiles<25.0,>=22.0 in /usr/local/lib/python3.11/dist-packages (from gradio) (24.1.0)\n",
            "Requirement already satisfied: anyio<5.0,>=3.0 in /usr/local/lib/python3.11/dist-packages (from gradio) (4.9.0)\n",
            "Requirement already satisfied: fastapi<1.0,>=0.115.2 in /usr/local/lib/python3.11/dist-packages (from gradio) (0.116.1)\n",
            "Requirement already satisfied: ffmpy in /usr/local/lib/python3.11/dist-packages (from gradio) (0.6.0)\n",
            "Requirement already satisfied: gradio-client==1.10.1 in /usr/local/lib/python3.11/dist-packages (from gradio) (1.10.1)\n",
            "Requirement already satisfied: groovy~=0.1 in /usr/local/lib/python3.11/dist-packages (from gradio) (0.1.2)\n",
            "Requirement already satisfied: httpx>=0.24.1 in /usr/local/lib/python3.11/dist-packages (from gradio) (0.28.1)\n",
            "Requirement already satisfied: huggingface-hub>=0.28.1 in /usr/local/lib/python3.11/dist-packages (from gradio) (0.33.4)\n",
            "Requirement already satisfied: jinja2<4.0 in /usr/local/lib/python3.11/dist-packages (from gradio) (3.1.6)\n",
            "Requirement already satisfied: markupsafe<4.0,>=2.0 in /usr/local/lib/python3.11/dist-packages (from gradio) (3.0.2)\n",
            "Requirement already satisfied: numpy<3.0,>=1.0 in /usr/local/lib/python3.11/dist-packages (from gradio) (2.0.2)\n",
            "Requirement already satisfied: orjson~=3.0 in /usr/local/lib/python3.11/dist-packages (from gradio) (3.10.18)\n",
            "Requirement already satisfied: packaging in /usr/local/lib/python3.11/dist-packages (from gradio) (24.2)\n",
            "Requirement already satisfied: pandas<3.0,>=1.0 in /usr/local/lib/python3.11/dist-packages (from gradio) (2.2.2)\n",
            "Requirement already satisfied: pillow<12.0,>=8.0 in /usr/local/lib/python3.11/dist-packages (from gradio) (11.2.1)\n",
            "Requirement already satisfied: pydantic<2.12,>=2.0 in /usr/local/lib/python3.11/dist-packages (from gradio) (2.11.7)\n",
            "Requirement already satisfied: pydub in /usr/local/lib/python3.11/dist-packages (from gradio) (0.25.1)\n",
            "Requirement already satisfied: python-multipart>=0.0.18 in /usr/local/lib/python3.11/dist-packages (from gradio) (0.0.20)\n",
            "Requirement already satisfied: pyyaml<7.0,>=5.0 in /usr/local/lib/python3.11/dist-packages (from gradio) (6.0.2)\n",
            "Requirement already satisfied: ruff>=0.9.3 in /usr/local/lib/python3.11/dist-packages (from gradio) (0.12.3)\n",
            "Requirement already satisfied: safehttpx<0.2.0,>=0.1.6 in /usr/local/lib/python3.11/dist-packages (from gradio) (0.1.6)\n",
            "Requirement already satisfied: semantic-version~=2.0 in /usr/local/lib/python3.11/dist-packages (from gradio) (2.10.0)\n",
            "Requirement already satisfied: starlette<1.0,>=0.40.0 in /usr/local/lib/python3.11/dist-packages (from gradio) (0.47.1)\n",
            "Requirement already satisfied: tomlkit<0.14.0,>=0.12.0 in /usr/local/lib/python3.11/dist-packages (from gradio) (0.13.3)\n",
            "Requirement already satisfied: typer<1.0,>=0.12 in /usr/local/lib/python3.11/dist-packages (from gradio) (0.16.0)\n",
            "Requirement already satisfied: typing-extensions~=4.0 in /usr/local/lib/python3.11/dist-packages (from gradio) (4.14.1)\n",
            "Requirement already satisfied: uvicorn>=0.14.0 in /usr/local/lib/python3.11/dist-packages (from gradio) (0.35.0)\n",
            "Requirement already satisfied: fsspec in /usr/local/lib/python3.11/dist-packages (from gradio-client==1.10.1->gradio) (2025.3.2)\n",
            "Requirement already satisfied: websockets<16.0,>=10.0 in /usr/local/lib/python3.11/dist-packages (from gradio-client==1.10.1->gradio) (15.0.1)\n",
            "Requirement already satisfied: click in /usr/local/lib/python3.11/dist-packages (from nltk) (8.2.1)\n",
            "Requirement already satisfied: joblib in /usr/local/lib/python3.11/dist-packages (from nltk) (1.5.1)\n",
            "Requirement already satisfied: regex>=2021.8.3 in /usr/local/lib/python3.11/dist-packages (from nltk) (2024.11.6)\n",
            "Requirement already satisfied: tqdm in /usr/local/lib/python3.11/dist-packages (from nltk) (4.67.1)\n",
            "Requirement already satisfied: contourpy>=1.0.1 in /usr/local/lib/python3.11/dist-packages (from matplotlib) (1.3.2)\n",
            "Requirement already satisfied: cycler>=0.10 in /usr/local/lib/python3.11/dist-packages (from matplotlib) (0.12.1)\n",
            "Requirement already satisfied: fonttools>=4.22.0 in /usr/local/lib/python3.11/dist-packages (from matplotlib) (4.58.5)\n",
            "Requirement already satisfied: kiwisolver>=1.3.1 in /usr/local/lib/python3.11/dist-packages (from matplotlib) (1.4.8)\n",
            "Requirement already satisfied: pyparsing>=2.3.1 in /usr/local/lib/python3.11/dist-packages (from matplotlib) (3.2.3)\n",
            "Requirement already satisfied: python-dateutil>=2.7 in /usr/local/lib/python3.11/dist-packages (from matplotlib) (2.9.0.post0)\n",
            "Requirement already satisfied: idna>=2.8 in /usr/local/lib/python3.11/dist-packages (from anyio<5.0,>=3.0->gradio) (3.10)\n",
            "Requirement already satisfied: sniffio>=1.1 in /usr/local/lib/python3.11/dist-packages (from anyio<5.0,>=3.0->gradio) (1.3.1)\n",
            "Requirement already satisfied: certifi in /usr/local/lib/python3.11/dist-packages (from httpx>=0.24.1->gradio) (2025.7.14)\n",
            "Requirement already satisfied: httpcore==1.* in /usr/local/lib/python3.11/dist-packages (from httpx>=0.24.1->gradio) (1.0.9)\n",
            "Requirement already satisfied: h11>=0.16 in /usr/local/lib/python3.11/dist-packages (from httpcore==1.*->httpx>=0.24.1->gradio) (0.16.0)\n",
            "Requirement already satisfied: filelock in /usr/local/lib/python3.11/dist-packages (from huggingface-hub>=0.28.1->gradio) (3.18.0)\n",
            "Requirement already satisfied: requests in /usr/local/lib/python3.11/dist-packages (from huggingface-hub>=0.28.1->gradio) (2.32.3)\n",
            "Requirement already satisfied: hf-xet<2.0.0,>=1.1.2 in /usr/local/lib/python3.11/dist-packages (from huggingface-hub>=0.28.1->gradio) (1.1.5)\n",
            "Requirement already satisfied: pytz>=2020.1 in /usr/local/lib/python3.11/dist-packages (from pandas<3.0,>=1.0->gradio) (2025.2)\n",
            "Requirement already satisfied: tzdata>=2022.7 in /usr/local/lib/python3.11/dist-packages (from pandas<3.0,>=1.0->gradio) (2025.2)\n",
            "Requirement already satisfied: annotated-types>=0.6.0 in /usr/local/lib/python3.11/dist-packages (from pydantic<2.12,>=2.0->gradio) (0.7.0)\n",
            "Requirement already satisfied: pydantic-core==2.33.2 in /usr/local/lib/python3.11/dist-packages (from pydantic<2.12,>=2.0->gradio) (2.33.2)\n",
            "Requirement already satisfied: typing-inspection>=0.4.0 in /usr/local/lib/python3.11/dist-packages (from pydantic<2.12,>=2.0->gradio) (0.4.1)\n",
            "Requirement already satisfied: six>=1.5 in /usr/local/lib/python3.11/dist-packages (from python-dateutil>=2.7->matplotlib) (1.17.0)\n",
            "Requirement already satisfied: shellingham>=1.3.0 in /usr/local/lib/python3.11/dist-packages (from typer<1.0,>=0.12->gradio) (1.5.4)\n",
            "Requirement already satisfied: rich>=10.11.0 in /usr/local/lib/python3.11/dist-packages (from typer<1.0,>=0.12->gradio) (13.9.4)\n",
            "Requirement already satisfied: markdown-it-py>=2.2.0 in /usr/local/lib/python3.11/dist-packages (from rich>=10.11.0->typer<1.0,>=0.12->gradio) (3.0.0)\n",
            "Requirement already satisfied: pygments<3.0.0,>=2.13.0 in /usr/local/lib/python3.11/dist-packages (from rich>=10.11.0->typer<1.0,>=0.12->gradio) (2.19.2)\n",
            "Requirement already satisfied: charset-normalizer<4,>=2 in /usr/local/lib/python3.11/dist-packages (from requests->huggingface-hub>=0.28.1->gradio) (3.4.2)\n",
            "Requirement already satisfied: urllib3<3,>=1.21.1 in /usr/local/lib/python3.11/dist-packages (from requests->huggingface-hub>=0.28.1->gradio) (2.4.0)\n",
            "Requirement already satisfied: mdurl~=0.1 in /usr/local/lib/python3.11/dist-packages (from markdown-it-py>=2.2.0->rich>=10.11.0->typer<1.0,>=0.12->gradio) (0.1.2)\n",
            "Downloading pdf2image-1.17.0-py3-none-any.whl (11 kB)\n",
            "Downloading pytesseract-0.3.13-py3-none-any.whl (14 kB)\n",
            "Downloading pymupdf-1.26.3-cp39-abi3-manylinux_2_28_x86_64.whl (24.1 MB)\n",
            "\u001b[2K   \u001b[90m━━━━━━━━━━━━━━━━━━━━━━━━━━━━━━━━━━━━━━━━\u001b[0m \u001b[32m24.1/24.1 MB\u001b[0m \u001b[31m45.9 MB/s\u001b[0m eta \u001b[36m0:00:00\u001b[0m\n",
            "\u001b[?25hInstalling collected packages: pytesseract, PyMuPDF, pdf2image\n",
            "Successfully installed PyMuPDF-1.26.3 pdf2image-1.17.0 pytesseract-0.3.13\n",
            "Reading package lists... Done\n",
            "Building dependency tree... Done\n",
            "Reading state information... Done\n",
            "The following NEW packages will be installed:\n",
            "  poppler-utils\n",
            "0 upgraded, 1 newly installed, 0 to remove and 35 not upgraded.\n",
            "Need to get 186 kB of archives.\n",
            "After this operation, 697 kB of additional disk space will be used.\n",
            "Get:1 http://archive.ubuntu.com/ubuntu jammy-updates/main amd64 poppler-utils amd64 22.02.0-2ubuntu0.8 [186 kB]\n",
            "Fetched 186 kB in 1s (233 kB/s)\n",
            "Selecting previously unselected package poppler-utils.\n",
            "(Reading database ... 126281 files and directories currently installed.)\n",
            "Preparing to unpack .../poppler-utils_22.02.0-2ubuntu0.8_amd64.deb ...\n",
            "Unpacking poppler-utils (22.02.0-2ubuntu0.8) ...\n",
            "Setting up poppler-utils (22.02.0-2ubuntu0.8) ...\n",
            "Processing triggers for man-db (2.10.2-1) ...\n"
          ]
        }
      ],
      "source": [
        "!pip install gradio pdf2image pytesseract nltk matplotlib PyMuPDF\n",
        "!apt-get install -y poppler-utils"
      ]
    },
    {
      "cell_type": "code",
      "execution_count": 2,
      "metadata": {
        "colab": {
          "base_uri": "https://localhost:8080/"
        },
        "id": "halG45UtzwRw",
        "outputId": "53d826f3-f8ee-4006-b8de-43525767dafd"
      },
      "outputs": [
        {
          "output_type": "stream",
          "name": "stderr",
          "text": [
            "[nltk_data] Downloading package punkt to /root/nltk_data...\n",
            "[nltk_data]   Unzipping tokenizers/punkt.zip.\n",
            "[nltk_data] Downloading package stopwords to /root/nltk_data...\n",
            "[nltk_data]   Unzipping corpora/stopwords.zip.\n"
          ]
        },
        {
          "output_type": "execute_result",
          "data": {
            "text/plain": [
              "True"
            ]
          },
          "metadata": {},
          "execution_count": 2
        }
      ],
      "source": [
        "#Import Libraries and Setup\n",
        "\n",
        "import gradio as gr\n",
        "import fitz  # PyMuPDF\n",
        "import pytesseract\n",
        "from PIL import Image\n",
        "import re\n",
        "import tempfile\n",
        "import matplotlib.pyplot as plt\n",
        "from nltk.corpus import stopwords\n",
        "from nltk.tokenize import RegexpTokenizer\n",
        "from pdf2image import convert_from_bytes\n",
        "import nltk\n",
        "\n",
        "nltk.download(\"punkt\")\n",
        "nltk.download(\"stopwords\")\n"
      ]
    },
    {
      "cell_type": "code",
      "execution_count": 3,
      "metadata": {
        "id": "vrhvh2670Hmo"
      },
      "outputs": [],
      "source": [
        "#Define Skills for Roles\n",
        "\n",
        "RECOMMENDED_SKILLS = {\n",
        "    \"AI/ML Intern\": [\n",
        "        \"python\", \"tensorflow\", \"pytorch\", \"pandas\", \"numpy\",\n",
        "        \"deep learning\", \"machine learning\", \"scikit-learn\", \"matplotlib\", \"nlp\"\n",
        "    ],\n",
        "    \"Data Analyst\": [\n",
        "        \"excel\", \"sql\", \"power bi\", \"tableau\", \"python\",\n",
        "        \"data visualization\", \"data cleaning\", \"statistics\", \"pandas\", \"numpy\"\n",
        "    ],\n",
        "    \"Web Developer\": [\n",
        "        \"html\", \"css\", \"javascript\", \"react\", \"next.js\",\n",
        "        \"flask\", \"node.js\", \"bootstrap\", \"api integration\", \"mongodb\"\n",
        "    ],\n",
        "    \"Backend Developer\": [\n",
        "        \"python\", \"django\", \"flask\", \"rest api\", \"fastapi\",\n",
        "        \"sql\", \"postgresql\", \"mongodb\", \"docker\", \"authentication\"\n",
        "    ],\n",
        "    \"Cloud Engineer\": [\n",
        "        \"aws\", \"azure\", \"gcp\", \"docker\", \"kubernetes\",\n",
        "        \"terraform\", \"cloudwatch\", \"lambda\", \"devops\", \"ci/cd\"\n",
        "    ],\n",
        "    \"DevOps Engineer\": [\n",
        "        \"jenkins\", \"git\", \"docker\", \"kubernetes\", \"linux\",\n",
        "        \"terraform\", \"ansible\", \"ci/cd\", \"aws\", \"monitoring\"\n",
        "    ],\n",
        "    \"Cybersecurity Analyst\": [\n",
        "        \"network security\", \"vulnerability assessment\", \"siem\", \"wireshark\", \"firewalls\",\n",
        "        \"ethical hacking\", \"nmap\", \"linux\", \"burpsuite\", \"incident response\"\n",
        "    ],\n",
        "    \"Data Scientist\": [\n",
        "        \"python\", \"r\", \"sql\", \"pandas\", \"numpy\",\n",
        "        \"tensorflow\", \"pytorch\", \"scikit-learn\", \"mlops\", \"data storytelling\"\n",
        "    ],\n",
        "    \"Business Analyst\": [\n",
        "        \"excel\", \"sql\", \"power bi\", \"tableau\", \"communication\",\n",
        "        \"requirement gathering\", \"data analysis\", \"stakeholder management\", \"agile\"\n",
        "    ],\n",
        "    \"Full Stack Developer\": [\n",
        "        \"html\", \"css\", \"javascript\", \"react\", \"node.js\",\n",
        "        \"mongodb\", \"express.js\", \"python\", \"sql\", \"api\"\n",
        "    ]\n",
        "}\n"
      ]
    },
    {
      "cell_type": "code",
      "execution_count": 4,
      "metadata": {
        "id": "BDOiEsq90XBA"
      },
      "outputs": [],
      "source": [
        "#Functions for Resume Analysis\n",
        "\n",
        "# Extract text from uploaded resume\n",
        "def extract_text_from_resume(resume_bytes):\n",
        "    try:\n",
        "        images = convert_from_bytes(resume_bytes)\n",
        "        text = \"\\n\".join([pytesseract.image_to_string(img) for img in images])\n",
        "        return text\n",
        "    except Exception as e:\n",
        "        return f\"[ERROR] Unable to extract text: {str(e)}\"\n",
        "\n",
        "# Get keywords from job description\n",
        "def extract_keywords_from_jd(jd_text):\n",
        "    tokenizer = RegexpTokenizer(r'\\w+')\n",
        "    words = tokenizer.tokenize(jd_text.lower())\n",
        "    stop_words = set(stopwords.words(\"english\"))\n",
        "    keywords = [word for word in words if word not in stop_words]\n",
        "    return list(set(keywords))\n",
        "\n",
        "# Get skills from resume\n",
        "def extract_skills(resume_text):\n",
        "    all_skills = set()\n",
        "    for skill_list in RECOMMENDED_SKILLS.values():\n",
        "        all_skills.update(skill_list)\n",
        "    found = [skill for skill in all_skills if skill.lower() in resume_text.lower()]\n",
        "    return found\n",
        "\n",
        "# Match roles based on found skills\n",
        "def match_roles(skills_found):\n",
        "    matched_roles = []\n",
        "    total_skills = set().union(*RECOMMENDED_SKILLS.values())\n",
        "\n",
        "    for role, required in RECOMMENDED_SKILLS.items():\n",
        "        match = list(set(skills_found) & set(required))\n",
        "        if match:\n",
        "            score = int((len(match) / len(required)) * 100)\n",
        "            matched_roles.append({\n",
        "                \"Role\": role,\n",
        "                \"Matched\": match,\n",
        "                \"Score\": score\n",
        "            })\n",
        "    ats_score = int((len(skills_found) / len(total_skills)) * 100)\n",
        "    return matched_roles, ats_score\n"
      ]
    },
    {
      "cell_type": "code",
      "execution_count": 5,
      "metadata": {
        "id": "_eaIuuEk08t1"
      },
      "outputs": [],
      "source": [
        "#Create Pie Chart + Smart Message\n",
        "\n",
        "def plot_ats_score(score):\n",
        "    fig, ax = plt.subplots()\n",
        "    labels = [f\"Match ({score}%)\", f\"Missing ({100 - score}%)\"]\n",
        "    colors = [\"#00C9A7\", \"#F67280\"]\n",
        "    ax.pie([score, 100 - score], labels=labels, colors=colors, startangle=90, autopct='%1.1f%%')\n",
        "    ax.axis(\"equal\")\n",
        "    plt.title(\"ATS Match Score\", fontsize=14)\n",
        "    temp = tempfile.NamedTemporaryFile(suffix=\".png\", delete=False)\n",
        "    plt.savefig(temp.name, bbox_inches=\"tight\")\n",
        "    plt.close(fig)\n",
        "    return temp.name\n",
        "\n",
        "def analyze_resume(resume_file, jd_text):\n",
        "    resume_text = extract_text_from_resume(resume_file)\n",
        "    if resume_text.startswith(\"[ERROR]\"):\n",
        "        return None, resume_text\n",
        "\n",
        "    jd_keywords = extract_keywords_from_jd(jd_text)\n",
        "    resume_skills = extract_skills(resume_text)\n",
        "    matched_roles, ats_score = match_roles(resume_skills)\n",
        "    pie_path = plot_ats_score(ats_score)\n",
        "\n",
        "    if ats_score < 60:\n",
        "        message = f\"😕 Your ATS score is {ats_score}%, which is a bit low.\\n\\n\"\n",
        "        message += \"🔍 To improve your chances, try refining your resume to highlight more relevant skills.\"\n",
        "    else:\n",
        "        best = sorted(matched_roles, key=lambda x: x['Score'], reverse=True)[0]\n",
        "        message = f\"✅ Your ATS score is {ats_score}% — you're a strong match!\\n\\n\"\n",
        "        message += f\"💼 Best fit role: {best['Role']} ({best['Score']}%)\\n\"\n",
        "        others = [r for r in matched_roles if r['Role'] != best['Role']]\n",
        "        if others:\n",
        "            message += \"\\n📌 You might also explore:\\n\"\n",
        "            for r in others[:2]:\n",
        "                message += f\"- {r['Role']} ({r['Score']}%)\\n\"\n",
        "\n",
        "    return pie_path, message\n",
        "\n"
      ]
    },
    {
      "cell_type": "code",
      "execution_count": 6,
      "metadata": {
        "colab": {
          "base_uri": "https://localhost:8080/",
          "height": 611
        },
        "id": "Lucu5gWo1O3B",
        "outputId": "a8347e6e-8b1e-4986-afc0-6c9c62759363"
      },
      "outputs": [
        {
          "output_type": "stream",
          "name": "stdout",
          "text": [
            "Colab notebook detected. To show errors in colab notebook, set debug=True in launch()\n",
            "* Running on public URL: https://25965bfedcfdf17d64.gradio.live\n",
            "\n",
            "This share link expires in 1 week. For free permanent hosting and GPU upgrades, run `gradio deploy` from the terminal in the working directory to deploy to Hugging Face Spaces (https://huggingface.co/spaces)\n"
          ]
        },
        {
          "output_type": "display_data",
          "data": {
            "text/plain": [
              "<IPython.core.display.HTML object>"
            ],
            "text/html": [
              "<div><iframe src=\"https://25965bfedcfdf17d64.gradio.live\" width=\"100%\" height=\"500\" allow=\"autoplay; camera; microphone; clipboard-read; clipboard-write;\" frameborder=\"0\" allowfullscreen></iframe></div>"
            ]
          },
          "metadata": {}
        },
        {
          "output_type": "execute_result",
          "data": {
            "text/plain": []
          },
          "metadata": {},
          "execution_count": 6
        }
      ],
      "source": [
        "#Build Gradio Interface\n",
        "\n",
        "demo = gr.Interface(\n",
        "    fn=analyze_resume,\n",
        "    inputs=[\n",
        "        gr.File(type=\"binary\", label=\"📄 Upload Resume\"),\n",
        "        gr.Textbox(label=\"📝 Paste Job Description\", placeholder=\"Paste JD here...\", lines=8)\n",
        "    ],\n",
        "    outputs=[\n",
        "        gr.Image(type=\"filepath\", label=\"🎯 ATS Score\"),\n",
        "        gr.Markdown(label=\"💡 Suggestions & Best Fit Role\")\n",
        "    ],\n",
        "    title=\"🚀 Resume Analyzer based on JD\",\n",
        "    description=\"Upload your resume and paste the job description to get your ATS match score and recommendations!\",\n",
        "    theme=\"default\"\n",
        ")\n",
        "\n",
        "demo.launch(share=True)\n",
        "\n"
      ]
    }
  ],
  "metadata": {
    "colab": {
      "provenance": []
    },
    "kernelspec": {
      "display_name": "Python 3",
      "name": "python3"
    },
    "language_info": {
      "name": "python"
    }
  },
  "nbformat": 4,
  "nbformat_minor": 0
}